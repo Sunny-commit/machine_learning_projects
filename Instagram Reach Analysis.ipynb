{
 "cells": [
  {
   "cell_type": "code",
   "execution_count": null,
   "id": "188444b3-a987-4035-9977-92aba697941a",
   "metadata": {},
   "outputs": [],
   "source": [
    "import pandas as pd\n",
    "import numpy as np\n",
    "import matplotlib.pyplot as plt\n",
    "import seaborn as sns\n",
    "import plotlib.express as px\n",
    "from wordcloud import WordCloud,STOPWORDS,ImageColorGenerator\n",
    "from sklearn.model_selection import train_test_split\n",
    "fromm sklearn.linear_model import PassiveAggressiveRegressor"
   ]
  },
  {
   "cell_type": "code",
   "execution_count": null,
   "id": "f09aeff8-bba2-4adb-b401-d3a2a883a0d6",
   "metadata": {},
   "outputs": [],
   "source": [
    "data=pd.read_csv('Instagram.csv',encoding='latin1')\n",
    "data.head()"
   ]
  },
  {
   "cell_type": "code",
   "execution_count": null,
   "id": "ab4f882d-a305-499d-a4bf-0d7f0212f61d",
   "metadata": {},
   "outputs": [],
   "source": [
    "data.isnull().sum()"
   ]
  },
  {
   "cell_type": "code",
   "execution_count": null,
   "id": "ee5668ae-6bf3-4efd-8025-c04679604d32",
   "metadata": {},
   "outputs": [],
   "source": [
    "data=data.dropna()"
   ]
  },
  {
   "cell_type": "code",
   "execution_count": null,
   "id": "eaff2574-b9dc-449c-9d59-887e24f7f6c4",
   "metadata": {},
   "outputs": [],
   "source": [
    "data.info()"
   ]
  },
  {
   "cell_type": "code",
   "execution_count": null,
   "id": "f18cd8fe-3711-4b1a-9874-571597bb8580",
   "metadata": {},
   "outputs": [],
   "source": [
    "plt.figure(figsize=(10,8))\n",
    "plt.style.use('fivethirtyeight')\n",
    "plt.title('Distribution of Impressions From Home')\n",
    "sns.distplot(data['From Home'])\n",
    "plt.show()"
   ]
  },
  {
   "cell_type": "code",
   "execution_count": null,
   "id": "90989d50-64d0-4c11-9992-c86ac407609f",
   "metadata": {},
   "outputs": [],
   "source": [
    "plt.figure(figsize=(10,8))\n",
    "plt.title(\"Distribution of impressions from Hashtag\")\n",
    "sns.displot(data['From Hashtags'])\n",
    "plt.show()"
   ]
  },
  {
   "cell_type": "code",
   "execution_count": null,
   "id": "c1f831e6-5e49-496c-80ff-14bcab168f9e",
   "metadata": {},
   "outputs": [],
   "source": [
    "plt.figure(figsize=(10,8))\n",
    "plt.title(\"Distribution of impressions from Explore\")\n",
    "sns.displot(data['From Explore'])\n",
    "plt.show()"
   ]
  },
  {
   "cell_type": "code",
   "execution_count": null,
   "id": "ce0979f4-60e4-47eb-a18a-6b4098cd2b7e",
   "metadata": {},
   "outputs": [],
   "source": [
    "# total no of percentage of impressions \n",
    "home=data['From Home'].sum()\n",
    "hashtags=data['From Hashtags'].sum()\n",
    "explore=data['From Explore'].sum()\n",
    "other=data['From Other'].sum()\n",
    "\n",
    "labels=['From Home','From Hashtags','From Explore','Other']\n",
    "values=[home,hashtags,explore,other]\n",
    "fig=px.pie(data,values=values,names=labels,title='Impressions on Instagram posts from various ')\n",
    "fig.show()"
   ]
  },
  {
   "cell_type": "code",
   "execution_count": null,
   "id": "270ab35c-651c-465f-8857-aeaec7824785",
   "metadata": {},
   "outputs": [],
   "source": [
    "text=\" \".join(i for i in data.Caption)\n",
    "stopwords=set(STOPWORDS)\n",
    "wordcloud=WordCloud(stopwords=stopwords,background_color='white').generate(text)\n",
    "plt.style.use('classic')\n",
    "plt.figure(figsize=(12,10))\n",
    "plt.imshow(wordcloud,interpolation='bilinear')\n",
    "plt.axis('off')\n",
    "plt.show()"
   ]
  },
  {
   "cell_type": "code",
   "execution_count": null,
   "id": "3424c036-5d20-42df-9089-bd454f24211e",
   "metadata": {},
   "outputs": [],
   "source": [
    "text=\" \".join(i for i in data.Hashtags)\n",
    "stopwords=set(STOPWORDS)\n",
    "wordcloud=WordCloud(stopwords=stopwords,background='white').generate(text)\n",
    "plt.figure(figsize=(12,10))\n",
    "plt.imshow(wordcloud,interpolation='bilinear')\n",
    "plt.axis('off')\n",
    "plt.show()"
   ]
  },
  {
   "cell_type": "markdown",
   "id": "3223d167-a58e-4e91-9ec8-4fd52aff085b",
   "metadata": {},
   "source": [
    "# Analyzing the Relationship"
   ]
  },
  {
   "cell_type": "code",
   "execution_count": null,
   "id": "87e995d7-2271-4efc-820d-3770a904993a",
   "metadata": {},
   "outputs": [],
   "source": [
    "figure=px.scatter(data_frame=data,x='Impressions',y='Likes',size='Likes',trendline='ols',title='Relationship Between Likes and Impressions')\n",
    "plt.show()"
   ]
  },
  {
   "cell_type": "code",
   "execution_count": null,
   "id": "f07f08a3-1e81-4c19-82f1-f52930bdd3d8",
   "metadata": {},
   "outputs": [],
   "source": [
    "figure=px.scatter(data_frame=data,x='Impressions',y='Comments',size='Comments',trendline='ols',title='Relationship Between Comments and Trending')\n",
    "figure.show()"
   ]
  },
  {
   "cell_type": "code",
   "execution_count": null,
   "id": "e36a7c6e-3b89-4e85-b196-e10d30abb2ab",
   "metadata": {},
   "outputs": [],
   "source": [
    "correlation=data.corr()\n",
    "print(correlation['Impressions'].sort_values(ascending=False))\n"
   ]
  },
  {
   "cell_type": "markdown",
   "id": "5b1ad146-b851-4489-9cfd-477ac4456d77",
   "metadata": {},
   "source": [
    "# Analyzing Conversion Rate"
   ]
  },
  {
   "cell_type": "code",
   "execution_count": 4,
   "id": "2398e194-3e25-458d-895d-f190221848ff",
   "metadata": {},
   "outputs": [],
   "source": [
    "# in instagram conversation rate means how many followers you are getting from the number of profile visits from a post.\n",
    "# the formula that you cna use to calculate conversion rate is (follows/profile visits)*100.\n"
   ]
  },
  {
   "cell_type": "code",
   "execution_count": null,
   "id": "e314ed01-4bc2-46b4-bf26-16e8acdf8211",
   "metadata": {},
   "outputs": [],
   "source": [
    "conversion_rate=(data['Follows'].sum()/data['Profile Visits'].sum())*100\n",
    "print(conversion_rate)"
   ]
  },
  {
   "cell_type": "code",
   "execution_count": null,
   "id": "9b6df61b-bfa6-478c-9174-3e717d105c9d",
   "metadata": {},
   "outputs": [],
   "source": [
    "figure=px.scatter(data_frame=data,x='Profile Visits',y='Follows',size='Follows',trendline='ols',\n",
    "                  title='Relationship Between Profile Visits and Followers Gained')\n",
    "figure.show()"
   ]
  },
  {
   "cell_type": "code",
   "execution_count": null,
   "id": "7dcc4cd2-0369-40b9-9d3e-fcffb1235e8c",
   "metadata": {},
   "outputs": [],
   "source": [
    "# instagram reach prediction model\n",
    "x=np.array(data[['Likes','Saves','Comments','Shares','Profile Visits','Follows']])\n",
    "y=np.array(data['Impressions'])\n",
    "x_train,x_test,y_train,y_test=train_test_split(x,y,test_size=0.2,random_state=42)"
   ]
  },
  {
   "cell_type": "code",
   "execution_count": null,
   "id": "732f3516-8bdc-4ed4-9a07-3a989ad1b0fa",
   "metadata": {},
   "outputs": [],
   "source": [
    "model=PassiveAggressiveRegressor()\n",
    "model.fit(x_train,y_train)\n",
    "model.score(x_test,y_test)"
   ]
  },
  {
   "cell_type": "code",
   "execution_count": null,
   "id": "bfae5541-2968-414a-acc6-95da9fee0314",
   "metadata": {},
   "outputs": [],
   "source": []
  }
 ],
 "metadata": {
  "kernelspec": {
   "display_name": "Python 3 (ipykernel)",
   "language": "python",
   "name": "python3"
  },
  "language_info": {
   "codemirror_mode": {
    "name": "ipython",
    "version": 3
   },
   "file_extension": ".py",
   "mimetype": "text/x-python",
   "name": "python",
   "nbconvert_exporter": "python",
   "pygments_lexer": "ipython3",
   "version": "3.9.13"
  }
 },
 "nbformat": 4,
 "nbformat_minor": 5
}
