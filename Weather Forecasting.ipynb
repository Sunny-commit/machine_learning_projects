{
 "cells": [
  {
   "cell_type": "code",
   "execution_count": 1,
   "id": "8fa445b9-ca05-42f1-b18c-8da0c8a51bb6",
   "metadata": {},
   "outputs": [],
   "source": [
    "import pandas as pd\n",
    "import numpy as np\n",
    "import matplotlib.pyplot as plt\n",
    "import seaborn as sns\n",
    "import plotly.express as px\n"
   ]
  },
  {
   "cell_type": "code",
   "execution_count": null,
   "id": "150f2510-2c8d-44ab-8ccc-73d484b6de74",
   "metadata": {},
   "outputs": [],
   "source": [
    "data=pd.read_csv('DailyDelhiClimateTrain.csv')\n",
    "data.head(5) # it displays the first 5 rows data "
   ]
  },
  {
   "cell_type": "code",
   "execution_count": null,
   "id": "d1301833-c0be-48f8-9a9f-980aba85ff33",
   "metadata": {},
   "outputs": [],
   "source": [
    "# For Knowing of the descriptive statistical data of the dataset we use .descirbe() method\n",
    "data.describe()"
   ]
  },
  {
   "cell_type": "markdown",
   "id": "1f9514bd-c02d-4604-9f2e-3dac51d825d8",
   "metadata": {},
   "source": [
    "# Displaying the information of datatypes,total Non-values count "
   ]
  },
  {
   "cell_type": "code",
   "execution_count": null,
   "id": "999d735a-2649-4220-8129-1d8134a12c2f",
   "metadata": {},
   "outputs": [],
   "source": [
    "data.info()"
   ]
  },
  {
   "cell_type": "code",
   "execution_count": null,
   "id": "d83ba3f9-0a66-4e07-850d-f86bb2d3af66",
   "metadata": {},
   "outputs": [],
   "source": [
    "The data column in this datset is not showing a datetime data type. we will change it when required."
   ]
  },
  {
   "cell_type": "code",
   "execution_count": null,
   "id": "e497b848-b5a3-4d02-9661-f217848a1a9d",
   "metadata": {},
   "outputs": [],
   "source": [
    "figure=px.line(data,x='data',y='meantemp',title='Mean Temperature in Delhi Over the Years')\n",
    "figure.show()"
   ]
  },
  {
   "cell_type": "code",
   "execution_count": null,
   "id": "1511cb64-73ec-4060-a031-bff6c9c759c3",
   "metadata": {},
   "outputs": [],
   "source": [
    "figure=px.line(data,x='date',y='humidity',title='Humidity in Delhi Over the Years')\n",
    "figure.show()"
   ]
  },
  {
   "cell_type": "code",
   "execution_count": null,
   "id": "ac595b93-7b77-4f1c-b31f-f2a502333d1b",
   "metadata": {},
   "outputs": [],
   "source": [
    "figure=px.line(data,x='date',y='wind_speed',title='wind speed in Delhi Over the Years')\n",
    "figure.show()"
   ]
  },
  {
   "cell_type": "code",
   "execution_count": null,
   "id": "041ebab6-8e74-4c7a-acb0-5697270645a6",
   "metadata": {},
   "outputs": [],
   "source": [
    "figure=px.line(data,x='humidity',y='meantemp',title='Relationship between Temperature and Humidity in Delhi Over the Years')\n",
    "figure.show()"
   ]
  },
  {
   "cell_type": "markdown",
   "id": "075aa48d-24af-4772-82c8-c51aa9f7a584",
   "metadata": {},
   "source": [
    "# Analyzing the temperature change"
   ]
  },
  {
   "cell_type": "code",
   "execution_count": null,
   "id": "6e16795d-9723-4e96-b803-678f72d56c6e",
   "metadata": {},
   "outputs": [],
   "source": [
    "data['date']=pd.to_datetime(data['date'],format='%Y-%m-%d')\n",
    "data['year']=data['date'].dt.year\n",
    "data['month']=data['date'].dt.month\n",
    "data.head()"
   ]
  },
  {
   "cell_type": "code",
   "execution_count": null,
   "id": "09d77f76-3aea-45fe-a59c-abf8baa680e2",
   "metadata": {},
   "outputs": [],
   "source": [
    "plt.style.use('fivethirtyeight')\n",
    "plt.figure(figsize=(15,10))\n",
    "plt.title('temperature change in Delhi over the years')\n",
    "sns.lineplot(data=data,x='month',y='meantemp',hue='years')\n",
    "plt.show()"
   ]
  },
  {
   "cell_type": "markdown",
   "id": "5a24d900-7ff4-40cb-bc29-66ee1ab54c67",
   "metadata": {},
   "source": [
    "# Forecasting Weather using python"
   ]
  },
  {
   "cell_type": "code",
   "execution_count": null,
   "id": "1bc04f1b-2dd7-4513-b4e6-d11c3d90006a",
   "metadata": {},
   "outputs": [],
   "source": [
    "Now lets move the task to weather forecating .i will be using the facebook prophet model for this task.The facebook prophet model is one of the best technique for \n",
    "time series forecating.\n",
    "to install that \n",
    "---> pip install prophet"
   ]
  },
  {
   "cell_type": "code",
   "execution_count": null,
   "id": "698e23aa-4d7c-452d-8242-32bd2ebdb343",
   "metadata": {},
   "outputs": [],
   "source": [
    "forecast_data=data.rename(columns={'date':'ds','meantemp':'y'})\n",
    "print(forecast_data)"
   ]
  },
  {
   "cell_type": "code",
   "execution_count": null,
   "id": "9a13c9e4-2dbe-44d6-a054-9d66b8346d5d",
   "metadata": {},
   "outputs": [],
   "source": [
    "from prophet import Prophet\n",
    "from prophet.plot import plot_plotly,plot_components_plotly\n",
    "model=Prophet()\n",
    "model.fit(forecast_data)\n",
    "forecasts=model.make_future_dataframe(periods=365)\n",
    "predictions=model.predict(forecasts)\n",
    "plot_plotly(model.predictions)"
   ]
  },
  {
   "cell_type": "markdown",
   "id": "b8b742da-de21-4a02-b053-b4f87340682a",
   "metadata": {},
   "source": [
    "# So this is how you analyzae and forecast the weather using python."
   ]
  },
  {
   "cell_type": "code",
   "execution_count": null,
   "id": "df9bdabf-4cb4-4dfe-af93-60725bcfc22f",
   "metadata": {},
   "outputs": [],
   "source": []
  }
 ],
 "metadata": {
  "kernelspec": {
   "display_name": "Python 3 (ipykernel)",
   "language": "python",
   "name": "python3"
  },
  "language_info": {
   "codemirror_mode": {
    "name": "ipython",
    "version": 3
   },
   "file_extension": ".py",
   "mimetype": "text/x-python",
   "name": "python",
   "nbconvert_exporter": "python",
   "pygments_lexer": "ipython3",
   "version": "3.9.13"
  }
 },
 "nbformat": 4,
 "nbformat_minor": 5
}
