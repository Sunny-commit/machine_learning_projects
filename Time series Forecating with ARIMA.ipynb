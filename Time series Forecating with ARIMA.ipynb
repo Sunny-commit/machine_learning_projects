{
 "cells": [
  {
   "cell_type": "code",
   "execution_count": null,
   "id": "85b9e1c3-8454-473e-b5b2-646eccaf6434",
   "metadata": {},
   "outputs": [],
   "source": [
    "Time Series forecating means analyzing and modeling time-series data to make future decisions. Some of the applications of Time Series Forecating are\n",
    "weather forecating.\n",
    "The ARIMA model is a popular statistical technique used for Time Series Forecasting.if you want to learn Time Series Forecasting with ARIMA, this article is for you.\n",
    "In this article. i will take you through the task of Time Series Forecasting with ARIMA using the Python programming language."
   ]
  },
  {
   "cell_type": "code",
   "execution_count": null,
   "id": "d05641be-a201-46ff-a65f-3bef4d973d02",
   "metadata": {},
   "outputs": [],
   "source": [
    "What is ARIMA?\n",
    "ARIMA stands for Autoregressive integrated moving average. it is an algorithm used for forecating Time Series Data ARIMA models have three parameters like\n",
    "ARIMA\n"
   ]
  },
  {
   "cell_type": "code",
   "execution_count": null,
   "id": "9bad9c71-bb35-4cde-9902-d88868b94270",
   "metadata": {},
   "outputs": [],
   "source": [
    "import pandas as pd\n",
    "import yfinance as yf\n",
    "import datetime\n",
    "from datetime import date,timedelta\n",
    "today=date.today()\n",
    "\n",
    "d1=today.strftime(\"%Y-%m-%d\")\n",
    "end_date=d1\n",
    "d2=date.today()-timedelta(days=365)\n",
    "d2=d2.strftime(\"%Y-%m-%d\")\n",
    "start_date=d2\n",
    "data=yf.downlaod('GOOG',start=start_date,end=end_date,progress=False)\n",
    "data['Date']=data.index\n",
    "data=data[['Date','Open','High','Low','Close','Adj Close','Volume']]\n",
    "data.reset_index(drop=True,inplace=True)\n",
    "data.tail()"
   ]
  },
  {
   "cell_type": "code",
   "execution_count": null,
   "id": "0826634d-97cc-4ced-988a-e2982aafb958",
   "metadata": {},
   "outputs": [],
   "source": [
    "data=data[['Date','Close']]\n",
    "data.head()"
   ]
  },
  {
   "cell_type": "code",
   "execution_count": null,
   "id": "f51e640f-1edb-4d37-8ae6-3d4bd4e4a90e",
   "metadata": {},
   "outputs": [],
   "source": [
    "import matplotlib.pyplot as plt\n",
    "plt.style.use('fivethirtyeight')\n",
    "plt.figure(figsize=(15,10))\n",
    "plt.plot(data['Date'],data['Close'])"
   ]
  },
  {
   "cell_type": "markdown",
   "id": "98f18878-1d56-4c2e-8eb6-387fe0ccc865",
   "metadata": {},
   "source": [
    "# Using ARIMA for Time Series Forecasting"
   ]
  },
  {
   "cell_type": "code",
   "execution_count": null,
   "id": "1ac39d1b-6663-43ca-accb-415037ed3215",
   "metadata": {},
   "outputs": [],
   "source": [
    "Before using the ARIMA model,we have to figure out whether our data is stationary or seasonal."
   ]
  },
  {
   "cell_type": "code",
   "execution_count": null,
   "id": "b53e0d21-4e50-4517-8874-6dc2416294ae",
   "metadata": {},
   "outputs": [],
   "source": [
    "from statsmodels.tsa.seasonsal import seasonal_decompose\n",
    "result=seasonal_decompose(data['Close'],model='multipicative',freq=30)\n",
    "fig=plt.figure()\n",
    "fig=result.plot()\n",
    "fig.set_size_inches(15,10)\n"
   ]
  },
  {
   "cell_type": "code",
   "execution_count": null,
   "id": "7da08972-0689-486d-97d8-c96df29b7147",
   "metadata": {},
   "outputs": [],
   "source": [
    "pd.plotting.autocorrelation_plot(data['Close'])\n"
   ]
  },
  {
   "cell_type": "code",
   "execution_count": null,
   "id": "a4c0e185-3930-43b9-986c-7dc4a113053c",
   "metadata": {},
   "outputs": [],
   "source": [
    "from statsmodels.graphics.tsaplots import plot_pacf\n",
    "plot_pacf(data['Close'],lags=100"
   ]
  },
  {
   "cell_type": "code",
   "execution_count": null,
   "id": "41cdad90-af8d-43a1-98fc-dafd9bba71e2",
   "metadata": {},
   "outputs": [],
   "source": [
    "p,d,q=5,1,2\n",
    "from statsmodels.tsa.arima_model import ARIMA\n",
    "model=ARIMA(data['Close'],order=(p,d,q))\n",
    "fitted=model.fit(disp=-1)\n",
    "fitted.summary()"
   ]
  },
  {
   "cell_type": "code",
   "execution_count": null,
   "id": "34f78d7b-5975-4ba5-aab4-fd49e960d205",
   "metadata": {},
   "outputs": [],
   "source": [
    "predictions=fitted.predict()\n",
    "print(predictions)"
   ]
  },
  {
   "cell_type": "code",
   "execution_count": null,
   "id": "04493d80-03fe-4ac9-b710-74b630cd2466",
   "metadata": {},
   "outputs": [],
   "source": [
    "import statsmodles.api as sm\n",
    "import warnings\n",
    "model=sm.tsa.statespace.SARIMAX(data['Close'],order=(p,d,q),\n",
    "                                seasonal_order=(p,d,q,12))\n",
    "model=model.fit()\n",
    "print(model.summary())"
   ]
  },
  {
   "cell_type": "code",
   "execution_count": null,
   "id": "82ec13a7-2edf-4a7d-a8bc-91558fb4db7a",
   "metadata": {},
   "outputs": [],
   "source": [
    "predictions=model.predict(len(data),len(data)+10)\n",
    "print(predictions)"
   ]
  },
  {
   "cell_type": "code",
   "execution_count": null,
   "id": "a360b204-14da-45e8-98a7-b8bda1f9e433",
   "metadata": {},
   "outputs": [],
   "source": [
    "data['Close'].plot(legend=True,label='Training Data',figsize=(15,10))\n",
    "predictions.plot(legend=True,label='predictions')"
   ]
  }
 ],
 "metadata": {
  "kernelspec": {
   "display_name": "Python 3 (ipykernel)",
   "language": "python",
   "name": "python3"
  },
  "language_info": {
   "codemirror_mode": {
    "name": "ipython",
    "version": 3
   },
   "file_extension": ".py",
   "mimetype": "text/x-python",
   "name": "python",
   "nbconvert_exporter": "python",
   "pygments_lexer": "ipython3",
   "version": "3.9.13"
  }
 },
 "nbformat": 4,
 "nbformat_minor": 5
}
