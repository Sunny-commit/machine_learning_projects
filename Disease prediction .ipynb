{
 "cells": [
  {
   "cell_type": "code",
   "execution_count": null,
   "id": "ed0635f7-8583-4e51-a580-154ce62bc020",
   "metadata": {},
   "outputs": [],
   "source": [
    "import numpy as np\n",
    "import pandas as pd\n",
    "import matplotlib.pyplot as plt\n",
    "from scipy.stats import mode\n",
    "import seaborn as sns\n",
    "from sklearn.preprocessing import LabelEncoder\n",
    "from sklearn.model_selcection import train_test_split,cross_val_score\n",
    "from sklearn.svm import SVC\n",
    "from sklearn.ensemble import RandomForestClassifier\n",
    "from sklearn.metrics import accuracy_score,confusion_matrix"
   ]
  },
  {
   "cell_type": "code",
   "execution_count": 3,
   "id": "4d9bde0b-0507-4d46-836e-70a768941ec3",
   "metadata": {},
   "outputs": [
    {
     "ename": "NameError",
     "evalue": "name 'pd' is not defined",
     "output_type": "error",
     "traceback": [
      "\u001b[1;31m---------------------------------------------------------------------------\u001b[0m",
      "\u001b[1;31mNameError\u001b[0m                                 Traceback (most recent call last)",
      "Cell \u001b[1;32mIn[3], line 1\u001b[0m\n\u001b[1;32m----> 1\u001b[0m data\u001b[38;5;241m=\u001b[39m\u001b[43mpd\u001b[49m\u001b[38;5;241m.\u001b[39mread_csv(\u001b[38;5;124m\"\u001b[39m\u001b[38;5;124mimproved_disease_dataset.csv\u001b[39m\u001b[38;5;124m\"\u001b[39m)\n\u001b[0;32m      2\u001b[0m encoder\u001b[38;5;241m=\u001b[39mLabelEncoder()\n\u001b[0;32m      3\u001b[0m data[\u001b[38;5;124m'\u001b[39m\u001b[38;5;124mdisease\u001b[39m\u001b[38;5;124m'\u001b[39m]\u001b[38;5;241m=\u001b[39mencoder\u001b[38;5;241m.\u001b[39mfit_transform(data[\u001b[38;5;124m'\u001b[39m\u001b[38;5;124mdisease\u001b[39m\u001b[38;5;124m'\u001b[39m])\n",
      "\u001b[1;31mNameError\u001b[0m: name 'pd' is not defined"
     ]
    }
   ],
   "source": [
    "data=pd.read_csv(\"improved_disease_dataset.csv\")\n",
    "encoder=LabelEncoder()\n",
    "data['disease']=encoder.fit_transform(data['disease'])\n",
    "x=data.iloc[:,:-1]\n",
    "y=data.iloc[:,-1]\n",
    "plt.figure(figsize=(18,8))\n",
    "sns.countplot(x=y)\n",
    "plt.title('Disease Class Distribution Before Resampling')\n",
    "plt.xticks(rotation=90)\n",
    "plt.show()\n",
    "\n",
    "ros=RansomOverSampler(random_state=42)\n",
    "x_resampled,y_resampled=ros.fit_resample(x,y)\n",
    "print(\"Resampled Class Distribution:\\n\",pd.Series(y_resampled).value_counts())"
   ]
  },
  {
   "cell_type": "code",
   "execution_count": null,
   "id": "e7b0a455-33fa-45a1-b2ce-f1177e66286c",
   "metadata": {},
   "outputs": [],
   "source": [
    "if 'gender' in x_resampled.column:\n",
    "    le=LabelEncoder()\n",
    "    x_resampled['gender']=le.fit_transform(x_resampled['gender'])\n",
    "x_resampled=x_resampled.fillna(0)\n",
    "if len(y_resampled.shape)>1:\n",
    "    y_resampled=y_resampled.values.ravel()\n",
    "models={\n",
    "    \"Decision Tree\":DecisionTreeClassifier(),\n",
    "    \"Random Forest\":RandomForestClassifier()\n",
    "}\n",
    "cv_scoring='accuracy'\n",
    "stratified_kfold=StratifiedKFold(n_splits=5,shuffle=True,random_state=42)\n",
    "for model_name,model in models.items():\n",
    "    try:\n",
    "        scores=cross_val_score(\n",
    "            model,\n",
    "            x_resampled,\n",
    "            y_resampled,\n",
    "            cv=stratified_kfold,\n",
    "            scoring=cv_scoring,\n",
    "            n_jobs=1,\n",
    "            error_score='raise'\n",
    "        )\n",
    "        print(\"=\"*50)\n",
    "        print(f\"model:{model_name}\")\n",
    "        print(f\"scores:{scores}\")\n",
    "        print(f\"Mean Accuracy:{scores.mean():.4f}\")\n",
    "    except Exception as e:\n",
    "        print(\"=\"*50)\n",
    "        print(f\"Model:{model_name} failed with error:\")\n",
    "        print(e)"
   ]
  },
  {
   "cell_type": "code",
   "execution_count": null,
   "id": "5748818b-17de-4215-b652-e2a34db6f189",
   "metadata": {},
   "outputs": [],
   "source": [
    "svm_model=SVC()\n",
    "svm_model.fit(x_resampled,y_resampled)\n",
    "svm_preds=svm_model.predict(x_resampled)\n",
    "cf_matrix_svm=confusion_matrix(y_resampled,svm_preds)\n",
    "plt.figure(figsize=(12,8))\n",
    "sns.heatmap(cf_matrix_sum,annot=True,fmt='d')\n",
    "plt.title('confusion matrix for svm classifier')\n",
    "plt.show()\n",
    "print(f'svm accuracy:{accuracy_score(y_resampled,svm_preds)*100:.2f}%\")"
   ]
  },
  {
   "cell_type": "code",
   "execution_count": null,
   "id": "cf3a5444-b6f8-4273-b034-9053c51f3bf8",
   "metadata": {},
   "outputs": [],
   "source": [
    "nb_model=GaussianNB()\n",
    "nb_model.fit(x_resampled,y_resampled)\n",
    "nb_preds=nb_model.predict(x_resampled)\n",
    "cf_matrix_nb=confusion_matrix(y_resampled,nb_preds)\n",
    "plt.figure(figsize(12,8))\n",
    "sns.heatmap(cf_matrix_nb,annot=True,fmt='d')\n",
    "plt.title('confusion matrix for naive bayes clasifier')\n",
    "plt.show()\n",
    "print(f'naive bayes accuracy:{accuracy_score(y_resampled,nb_preds)*100:.2f}%')"
   ]
  },
  {
   "cell_type": "code",
   "execution_count": null,
   "id": "5353757e-7338-450c-a3df-1459c7adbed4",
   "metadata": {},
   "outputs": [],
   "source": [
    "# random forest classifier\n",
    "rf_model=RandomForestClassifier(random_state=42)\n",
    "rf_model.fit(x_resampled,y_resampled)\n",
    "rf_preds=rf_model.predict(x_resampled)\n",
    "cf_matrix_rf=confusion_matrix(y_resampled,rf_preds)\n",
    "plt.figure(figsize(12,8))\n",
    "sns.heatmap(cf_matrix_rf,annot=True,fmt='d')\n",
    "plt.title('confusion matrix for random forest classifier')\n",
    "plt.show()\n",
    "print(f'random forest accuracy:{accuracy_score(y_resampled,rf_preds)*100:.2f}%\")\n"
   ]
  }
 ],
 "metadata": {
  "kernelspec": {
   "display_name": "Python 3 (ipykernel)",
   "language": "python",
   "name": "python3"
  },
  "language_info": {
   "codemirror_mode": {
    "name": "ipython",
    "version": 3
   },
   "file_extension": ".py",
   "mimetype": "text/x-python",
   "name": "python",
   "nbconvert_exporter": "python",
   "pygments_lexer": "ipython3",
   "version": "3.9.13"
  }
 },
 "nbformat": 4,
 "nbformat_minor": 5
}
