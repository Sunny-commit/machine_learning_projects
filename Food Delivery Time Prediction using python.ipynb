{
 "cells": [
  {
   "cell_type": "code",
   "execution_count": null,
   "id": "9ea61d04-fb83-4579-b5c3-1ebf8d9c24f0",
   "metadata": {},
   "outputs": [],
   "source": [
    "import pandas as pd\n",
    "import numpy as np\n",
    "import matplotlib.pyplot as plt\n",
    "data=pd.read_csv(\"deliverytime.txt\")\n",
    "data.head()"
   ]
  },
  {
   "cell_type": "code",
   "execution_count": null,
   "id": "973edc1a-3ef5-45de-85e8-de2e44f187b6",
   "metadata": {},
   "outputs": [],
   "source": [
    "data.info()"
   ]
  },
  {
   "cell_type": "code",
   "execution_count": null,
   "id": "546ca25d-151b-4659-a9ae-1e601a819979",
   "metadata": {},
   "outputs": [],
   "source": [
    "data.isnull().sum()"
   ]
  },
  {
   "cell_type": "markdown",
   "id": "876f745b-4da4-4253-90f4-0d77b3627b26",
   "metadata": {},
   "source": [
    "# Interesting Thing"
   ]
  },
  {
   "cell_type": "markdown",
   "id": "98919054-2bd5-4928-971b-5e58e7f9ae70",
   "metadata": {},
   "source": [
    "# the dataset doesn't have any features that shows the difference between the restaurant and the delivery location.\n",
    "# All we have are the altitude and longitude points of the restraunt and delivery locations. We can use **Haversine formula** to calculate the distance\n",
    "# distance between two locations based on latitude and longitude."
   ]
  },
  {
   "cell_type": "code",
   "execution_count": null,
   "id": "ceb9cd93-9982-4e71-b88a-57617c7f128c",
   "metadata": {},
   "outputs": [],
   "source": [
    "R=6371\n",
    "\n",
    "#convert degreees to radiants\n",
    "def deg_to_rad(degrees):\n",
    "    return degrees*(np.pi/180)\n",
    "\n",
    "# function to calculate the distance between two points using the Haversine formula\n",
    "def distcalculate(lat1,lon1,lat2,lon2):\n",
    "    d_lat=deg_to_rad(lat2-lat1)\n",
    "    d_lon=deg_to_rad(lon2-lon1)\n",
    "    a=np.sin(d_lat/2)**2+np.cos(deg_to_rad(lat1)*np.cos(deg_to_rad(lat2))*np.sin(d_lon/2)**2\n",
    "    c=2*np.arctan2(np.sqrt(a),np.sqrt(1-a))\n",
    "    return R*c\n",
    "\n",
    "#Calculate the distance between each pair of points\n",
    "data['distance']=np.nan\n",
    "for i in range(len(data)):\n",
    "    data.loc[i,'distance']=distcalculate(data.loc[i,'Restaurant_latitude'],\n",
    "                                         data.loc[i,'Restaurant_longitude'],\n",
    "                                         data.loc[i,'Delivery_location_latitude'],\n",
    "                                         data.loc[i,'Delivery_location_longitude'])"
   ]
  },
  {
   "cell_type": "code",
   "execution_count": null,
   "id": "0e98d984-1745-4c76-84ad-0158c86228c5",
   "metadata": {},
   "outputs": [],
   "source": [
    "data.head()"
   ]
  },
  {
   "cell_type": "markdown",
   "id": "367be520-2781-4f9d-81f0-add91d0dc8d0",
   "metadata": {},
   "source": [
    "# Data Exploration"
   ]
  },
  {
   "cell_type": "code",
   "execution_count": null,
   "id": "75233f24-d391-45de-a2ce-7ab53dc7aa89",
   "metadata": {},
   "outputs": [],
   "source": [
    "figure=px.scatter(data_frame=data,x='distance',y='time_taken(min)',size='time_taken(min)',trendline='ols',title='relationship between disance and time taken')\n",
    "figure.show()"
   ]
  },
  {
   "cell_type": "code",
   "execution_count": null,
   "id": "f7e9d3c6-b4b5-4471-b2d3-808b163d7a98",
   "metadata": {},
   "outputs": [],
   "source": [
    "figure=px.scatter(data_frame=data,x='Delivery_person_Age',y='time_taken(min)',size='time_taken(min)',trendline='ols',title='relationship between disance and time taken')\n",
    "figure.show()"
   ]
  },
  {
   "cell_type": "code",
   "execution_count": null,
   "id": "f830fe11-c060-41a9-8765-99846c25d2f0",
   "metadata": {},
   "outputs": [],
   "source": [
    "figure=px.scatter(data_frame=data,x='Delivery_person_ratings',y='time_taken(min)',size='time_taken(min)',trendline='ols',title='relationship between disance and time taken')\n",
    "figure.show()"
   ]
  },
  {
   "cell_type": "code",
   "execution_count": null,
   "id": "da3ac28e-6320-4b03-9ca2-ada6b7547fd4",
   "metadata": {},
   "outputs": [],
   "source": [
    "fig=px.box(data,\n",
    "           x=\"type_of_vehicle\",\n",
    "           y=\"time_taken(min)\",\n",
    "           color=\"type_of_order\")\n",
    "fig.show()"
   ]
  },
  {
   "cell_type": "code",
   "execution_count": null,
   "id": "3efd730d-0dce-4e3c-8c26-84f4336ec7ec",
   "metadata": {},
   "outputs": [],
   "source": [
    "# by observing the plots we can find there is not much difference in delivery,\n",
    "# so for finding the delivery time we are using LSTM neural network model for the task of food delivery."
   ]
  },
  {
   "cell_type": "code",
   "execution_count": null,
   "id": "9ef6ddfc-068e-4a3e-8659-4991432cc78b",
   "metadata": {},
   "outputs": [],
   "source": [
    "# splitting the data\n",
    "from sklearn.model_selection import train_test_split\n",
    "x=np.array(data[['Delivery_person_Age','Delivery_person_Ratings','distance']])\n",
    "y=np.array(data[['Time_taken(min)']])\n",
    "x_train,x_test,y_train,y_test=train_test_split(x,y,test_size=0.10,random_state=42)\n",
    "\n",
    "\n",
    "# creating the LSTM neural network model\n",
    "from keras.model import Sequential\n",
    "from keras.layers import Dense,LSTM\n",
    "model=Sequential()\n",
    "model.add(LSTM(128,return_sequences=True,input_shape=(x_train.shape[1],1)))\n",
    "model.add(LSTM(64,return _sequences=False))\n",
    "model.add(Dense(25))\n",
    "model.add(Dense(1))\n",
    "model.summary()"
   ]
  },
  {
   "cell_type": "code",
   "execution_count": null,
   "id": "2d1aebb0-dfaf-475d-8b79-c1191587718b",
   "metadata": {},
   "outputs": [],
   "source": [
    "# training the model\n",
    "model.compile(optimizer='adam',loss='mean_squared_error')\n",
    "model.fit(x_train,y_train,batch_size=1,epochs=9)\n"
   ]
  },
  {
   "cell_type": "markdown",
   "id": "3c03f8c3-de80-4752-9bc7-6269df1ba238",
   "metadata": {},
   "source": [
    "# Now, let's test the performance of the model by giving the inputs to predict the food delivery time.\n"
   ]
  },
  {
   "cell_type": "code",
   "execution_count": null,
   "id": "e1497754-1411-4219-9775-d7d60397f7f5",
   "metadata": {},
   "outputs": [],
   "source": [
    "print('Food Delivery Time Prediction')\n",
    "a=int(input('Age of Delivery Partner:'))\n",
    "b=float(input('Ratings of previous Delivery :'))\n",
    "c=int(input('Total Distance'))\n",
    "\n",
    "# features=np.array([[a,b,c]])\n",
    "print('Predicted Delivery Time in Minutes=\"',model.predict(features))"
   ]
  },
  {
   "cell_type": "markdown",
   "id": "7bf0c4f9-bda1-4bb1-8f75-4f56ad2a7a74",
   "metadata": {},
   "source": [
    "# Summary"
   ]
  },
  {
   "cell_type": "code",
   "execution_count": null,
   "id": "623aca85-01f7-4a8b-8416-129d8e6e3390",
   "metadata": {},
   "outputs": [],
   "source": [
    "To predict the food delivery time in real time,you need to calculate the distance between the food preparation point and the point of food consumption .\n",
    "After finding the distance betwenen the resturant and the delivery locations. You need to find relationship between the time taken by delivery partners the \n",
    "food in the past for the same distance."
   ]
  }
 ],
 "metadata": {
  "kernelspec": {
   "display_name": "Python 3 (ipykernel)",
   "language": "python",
   "name": "python3"
  },
  "language_info": {
   "codemirror_mode": {
    "name": "ipython",
    "version": 3
   },
   "file_extension": ".py",
   "mimetype": "text/x-python",
   "name": "python",
   "nbconvert_exporter": "python",
   "pygments_lexer": "ipython3",
   "version": "3.9.13"
  }
 },
 "nbformat": 4,
 "nbformat_minor": 5
}
