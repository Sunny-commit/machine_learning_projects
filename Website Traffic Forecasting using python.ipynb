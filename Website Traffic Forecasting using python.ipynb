{
 "cells": [
  {
   "cell_type": "code",
   "execution_count": null,
   "id": "563d13d4-c9cc-496a-b59c-fb91a4f32aef",
   "metadata": {},
   "outputs": [],
   "source": [
    "import pandas as pd\n",
    "import matplotlib.pyplot as plt\n",
    "import plotly.express as px\n",
    "import plotly.graph_objects as go\n",
    "from statsmodels.tsa.seasonal import seasonal_decompose\n",
    "from statsmodels.graphics.tsaplots import plot_pacf\n",
    "from statsmodels.tsa.arima_model import ARIMA\n",
    "import statsmodels.api as sm"
   ]
  },
  {
   "cell_type": "code",
   "execution_count": null,
   "id": "0ba14df3-f46f-4456-a886-acfa0dc68b92",
   "metadata": {},
   "outputs": [],
   "source": [
    "data=pd.read_csv('Thecleverprogrammer.csv')\n",
    "data.head()"
   ]
  },
  {
   "cell_type": "code",
   "execution_count": null,
   "id": "e1ed1401-7b02-4ac1-bd69-3c27ba55bac0",
   "metadata": {},
   "outputs": [],
   "source": [
    "data['Date']=pd.to_datetime(data['Data'],format='%d/%m/%y')\n",
    "data.info()"
   ]
  },
  {
   "cell_type": "code",
   "execution_count": null,
   "id": "9c292550-8db6-45e3-8de3-a1ec9898ab6f",
   "metadata": {},
   "outputs": [],
   "source": [
    "plt.style.use('fivethirtyeight')\n",
    "plt.figure(figsize=(15,10))\n",
    "plt.plot(data['Date'],data['Views'])\n",
    "plt.title('Daily Traffic of the Thecleverprogrammer.com')\n",
    "plt.show()"
   ]
  },
  {
   "cell_type": "code",
   "execution_count": null,
   "id": "b6df9ab7-d893-4a92-9e4e-a986dbf6b1a5",
   "metadata": {},
   "outputs": [],
   "source": [
    "result=seasonal_decompose(data['Views'],model='multiplicative',freq=30)\n",
    "fig=plt.figure()\n",
    "fig=result.plot()\n",
    "fig.set_size_inches(15,10)"
   ]
  },
  {
   "cell_type": "code",
   "execution_count": null,
   "id": "2d41b776-1f43-4e71-9e4d-30cfdca22cd6",
   "metadata": {},
   "outputs": [],
   "source": [
    "pd.plotting.autocorrelation_plot(data['Views'])"
   ]
  },
  {
   "cell_type": "code",
   "execution_count": null,
   "id": "33c4ba8d-e37c-4905-8124-f4faf01f7f4b",
   "metadata": {},
   "outputs": [],
   "source": [
    "plot_pacf(data['Views'],lags=100)"
   ]
  },
  {
   "cell_type": "code",
   "execution_count": null,
   "id": "3f5b87e7-3c3a-4e07-9e65-8a527900d5f3",
   "metadata": {},
   "outputs": [],
   "source": [
    "p,d,q=5,1,2\n",
    "model=sm.tsa.statespace.SARIMAX(data['Views'],order=(p,d,q),seasonal_order=(p,d,q,12))\n",
    "model=model.fit()\n",
    "model.summary()"
   ]
  },
  {
   "cell_type": "code",
   "execution_count": null,
   "id": "5087a4e2-3c6b-425b-929d-6e6556077b0a",
   "metadata": {},
   "outputs": [],
   "source": [
    "predictions=model.predict(len(data),len(data)+50)\n",
    "predictions"
   ]
  },
  {
   "cell_type": "code",
   "execution_count": null,
   "id": "bf71f338-3ee5-4839-9f89-191107b72638",
   "metadata": {},
   "outputs": [],
   "source": [
    "data['Views'].plot(legend=True,label='Training Data',figsize=(15,10))\n",
    "predictions.plot(legend=True,label='Predictions')"
   ]
  },
  {
   "cell_type": "markdown",
   "id": "33effc53-a8dd-4bc1-8d35-f393e19ce2db",
   "metadata": {},
   "source": [
    "# Summary"
   ]
  },
  {
   "cell_type": "code",
   "execution_count": 2,
   "id": "11c2023d-667b-4b6b-8a34-2cabd0b4235e",
   "metadata": {},
   "outputs": [],
   "source": [
    "#So this is how you can forecast website traffic for a particular period. Website traffic prediction is one of the best data science project ideas you can mention on\n",
    "# your resume."
   ]
  },
  {
   "cell_type": "code",
   "execution_count": null,
   "id": "c25d69a1-ac88-4007-9d23-2f09b216cf97",
   "metadata": {},
   "outputs": [],
   "source": []
  }
 ],
 "metadata": {
  "kernelspec": {
   "display_name": "Python 3 (ipykernel)",
   "language": "python",
   "name": "python3"
  },
  "language_info": {
   "codemirror_mode": {
    "name": "ipython",
    "version": 3
   },
   "file_extension": ".py",
   "mimetype": "text/x-python",
   "name": "python",
   "nbconvert_exporter": "python",
   "pygments_lexer": "ipython3",
   "version": "3.9.13"
  }
 },
 "nbformat": 4,
 "nbformat_minor": 5
}
