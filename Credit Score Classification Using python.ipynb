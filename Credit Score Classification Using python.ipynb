{
 "cells": [
  {
   "cell_type": "code",
   "execution_count": 2,
   "id": "c844f8f4-1749-497f-bd07-8ccd901b6450",
   "metadata": {},
   "outputs": [],
   "source": [
    "import pandas as pd\n",
    "import numpy as np\n",
    "import plotly.express as px\n",
    "import plotly.graph_objects as go\n",
    "import plotly.io as pio\n",
    "pio.templates.default=\"plotly_white\"\n"
   ]
  },
  {
   "cell_type": "markdown",
   "id": "95cd5afe-6b22-40d4-a257-460a0007a644",
   "metadata": {},
   "source": [
    "# Using Credit Score Classification Dataset "
   ]
  },
  {
   "cell_type": "code",
   "execution_count": null,
   "id": "7ee5bab3-926f-42ac-ba3b-b92c8af6390b",
   "metadata": {},
   "outputs": [],
   "source": [
    "data=pd.read_csv('train.csv') # credit card dataset train.csv file\n",
    "print(data.head())"
   ]
  },
  {
   "cell_type": "markdown",
   "id": "7442feab-d76b-4490-89b0-e3a981922724",
   "metadata": {},
   "source": [
    "# For knowing the information about the train.csv file we use info method for getting the information of the variables column name , total no of non-null count, Data type of the variable."
   ]
  },
  {
   "cell_type": "markdown",
   "id": "d07bff2f-584b-440c-b4b3-dc7189c7d9f6",
   "metadata": {},
   "source": [
    "# For simply knowing of total no of null values are present we use . isnull().sum()"
   ]
  },
  {
   "cell_type": "code",
   "execution_count": null,
   "id": "da753c50-ca75-42ab-93fa-a2b06588ba12",
   "metadata": {},
   "outputs": [],
   "source": [
    "data.isnull().sum()"
   ]
  },
  {
   "cell_type": "markdown",
   "id": "7cdfb058-b339-4176-9b5e-015c9bb41499",
   "metadata": {},
   "source": [
    "# For knowing the total count of the target variables"
   ]
  },
  {
   "cell_type": "code",
   "execution_count": null,
   "id": "c8bb8f5f-18f9-4714-a87e-c71e7fd13c28",
   "metadata": {},
   "outputs": [],
   "source": [
    "data['Credit_Score'].value_counts()"
   ]
  },
  {
   "cell_type": "markdown",
   "id": "472a8c27-904c-4705-a856-7bf839504cc3",
   "metadata": {},
   "source": [
    "# Data Exploration"
   ]
  },
  {
   "cell_type": "code",
   "execution_count": null,
   "id": "2f530522-0c23-45e9-af9c-5aa88ce1660f",
   "metadata": {},
   "outputs": [],
   "source": [
    "fig=px.box(data,x='Occupation',color='Credit_score',title='Credit Scores Based on Occupation',color_discrete_map={'Poor':'red','Standard':'yellow',\n",
    "'Good':'green'})\n",
    "fig.show()"
   ]
  },
  {
   "cell_type": "code",
   "execution_count": null,
   "id": "19940fa8-a7d0-4f72-878d-d982b7a3f270",
   "metadata": {},
   "outputs": [],
   "source": [
    "fig=px.box(data,x='Credit_Score',y='Annual_Income',color='Credit_Score',title='Credit Scores based on Annual Income',\n",
    "           color_discrete_map={'Poor':'red','Standard':'yellow','Good':'green'})\n",
    "fig.show()"
   ]
  },
  {
   "cell_type": "code",
   "execution_count": null,
   "id": "071caeb1-2992-455b-a69f-cf4523fcb7ef",
   "metadata": {},
   "outputs": [],
   "source": [
    "fig=px.box(data,x='Credit_Score',y='Monthly_Inhand_Salary',color='Credit_score',title='Credit Scores Based on Occupation',color_discrete_map={'Poor':'red','Standard':'yellow',\n",
    "'Good':'green'})\n",
    "fig.update_traces(quartilemethod=\"exclusive\")\n",
    "fig.show()"
   ]
  },
  {
   "cell_type": "code",
   "execution_count": null,
   "id": "eb534231-db16-4532-b486-1b05723df5ad",
   "metadata": {},
   "outputs": [],
   "source": [
    "fig=px.box(data,x='Credit_Score',y='Num_Bank_Accounts',color='Credit_score',title='Credit Scores Based on Occupation',color_discrete_map={'Poor':'red','Standard':'yellow',\n",
    "'Good':'green'})\n",
    "fig.update_traces(quartilemethod=\"exclusive\")\n",
    "fig.show()"
   ]
  },
  {
   "cell_type": "code",
   "execution_count": null,
   "id": "b286998f-7380-4a05-bc71-d6382fd0b578",
   "metadata": {},
   "outputs": [],
   "source": [
    "fig=px.box(data,x='Credit_Score',y='Num_Bank_Accounts',color='Credit_score',title='Credit Scores Based on Occupation',color_discrete_map={'Poor':'red','Standard':'yellow',\n",
    "'Good':'green'})\n",
    "fig.update_traces(quartilemethod=\"exclusive\")\n",
    "fig.show()"
   ]
  },
  {
   "cell_type": "markdown",
   "id": "b21cfda8-3263-4382-9817-61bc323d9dfe",
   "metadata": {},
   "source": [
    "# Credit Score Classification model"
   ]
  },
  {
   "cell_type": "code",
   "execution_count": null,
   "id": "a5130939-140d-4a31-a3e7-e49042dd04d5",
   "metadata": {},
   "outputs": [],
   "source": []
  },
  {
   "cell_type": "code",
   "execution_count": 10,
   "id": "12167396-df4e-4628-8086-40b6f950735c",
   "metadata": {},
   "outputs": [],
   "source": [
    "# One more important feature in the dataset is valuable for determining credit scores.the credit mix features tells about the types of \n",
    "# credits and loans you have taken.\n",
    "\n",
    "# As we see that the credit scores column is categorical ,i will transform it into a numerical feature so that we can use it ti train a \n",
    "# Machine learning model for the task of credit score classification.\n"
   ]
  },
  {
   "cell_type": "code",
   "execution_count": null,
   "id": "7f5b3b19-dea6-4364-8707-0d404078aa0b",
   "metadata": {},
   "outputs": [],
   "source": [
    "data['Credit_Mix']=data['Credit_Mix'].map({\"Standard\":1,\"Good\":2,\"Bad\":0})\n"
   ]
  },
  {
   "cell_type": "code",
   "execution_count": null,
   "id": "ff003f39-e4c7-45d2-9b38-89ef006f8951",
   "metadata": {},
   "outputs": [],
   "source": [
    "# splitting the model for training"
   ]
  },
  {
   "cell_type": "code",
   "execution_count": 11,
   "id": "c908be32-8cb8-4ffa-b68c-7893a6c61a6b",
   "metadata": {},
   "outputs": [],
   "source": [
    "from sklearn.model_selection import train_test_split"
   ]
  },
  {
   "cell_type": "code",
   "execution_count": null,
   "id": "abd3323e-3725-41d9-8412-320d65cebd55",
   "metadata": {},
   "outputs": [],
   "source": [
    "x=data.drop(columns='Credit_Score',axis=1)\n",
    "y=data.Credit_Score"
   ]
  },
  {
   "cell_type": "code",
   "execution_count": null,
   "id": "9e63f379-7a16-4379-b14f-cfa548bca265",
   "metadata": {},
   "outputs": [],
   "source": [
    "x_train,x_test,y_train,y_test=train_test_split(x,y,test_size=0,random_state=42)"
   ]
  },
  {
   "cell_type": "code",
   "execution_count": null,
   "id": "296bc3d1-6256-453b-8cc4-d59d1ffaf6d6",
   "metadata": {},
   "outputs": [],
   "source": [
    "from sklearn.ensemble import RandomForestClassifier\n",
    "model=RandomForestClassifier()\n",
    "model.fit(x_train,y_train)"
   ]
  },
  {
   "cell_type": "code",
   "execution_count": 12,
   "id": "a664adbf-3a68-468a-b1c1-5e67a6eea39f",
   "metadata": {},
   "outputs": [],
   "source": [
    "# Now, Let's Make prediction from our modle by giving inputs to our model according to the features we used to train the model.\n"
   ]
  },
  {
   "cell_type": "code",
   "execution_count": null,
   "id": "b8fcf392-8b95-4288-a7e7-e437496f2266",
   "metadata": {},
   "outputs": [],
   "source": [
    "print('Credit Score Prediction')\n",
    "a=float(input('Annual Income'))\n",
    "b=float(input('monthly inhand salary'))\n",
    "c=float(input('number of bank accounts'))\n",
    "d=float(input('number of credit cards'))\n",
    "e=float(input('no of loans:'))\n",
    "f=float(input('average no of days by the person'))\n",
    "print('Credit Score Prediction')\n",
    "a=float(input('Annual Income'))\n",
    "b=float(input('monthly inhand salary'))\n",
    "c=float(input('number of bank accounts'))\n",
    "d=float(input('number of credit cards'))\n",
    "e=float(input('no of loans:'))\n",
    "f=float(input('average no of days by the person'))"
   ]
  },
  {
   "cell_type": "code",
   "execution_count": null,
   "id": "f0770012-377c-4c2c-bdae-98999778a13b",
   "metadata": {},
   "outputs": [],
   "source": [
    "features=np.array([[a,b,c,d,e,f,g,h,i,j,k,l]])\n",
    "print('Predicted Credit Score':,model.predict(features))"
   ]
  }
 ],
 "metadata": {
  "kernelspec": {
   "display_name": "Python 3 (ipykernel)",
   "language": "python",
   "name": "python3"
  },
  "language_info": {
   "codemirror_mode": {
    "name": "ipython",
    "version": 3
   },
   "file_extension": ".py",
   "mimetype": "text/x-python",
   "name": "python",
   "nbconvert_exporter": "python",
   "pygments_lexer": "ipython3",
   "version": "3.9.13"
  }
 },
 "nbformat": 4,
 "nbformat_minor": 5
}
