{
 "cells": [
  {
   "cell_type": "code",
   "execution_count": null,
   "id": "a43acd1a-dc68-4475-9e56-308ef343373f",
   "metadata": {},
   "outputs": [],
   "source": [
    "faqs=\"\"\" \n",
    "....\n",
    "\n",
    "\n",
    "\n",
    "\"\"\"\""
   ]
  },
  {
   "cell_type": "code",
   "execution_count": null,
   "id": "640ddf64-c72f-41f2-8150-d50b690a3d83",
   "metadata": {},
   "outputs": [],
   "source": [
    "import tensorflow as tf\n",
    "from tensorflow.keras.preprocessing.text import Tokenizer"
   ]
  },
  {
   "cell_type": "code",
   "execution_count": null,
   "id": "df551fc5-b33d-463b-934a-f3011490c0e0",
   "metadata": {},
   "outputs": [],
   "source": [
    "tokenizer=Tokenizer()"
   ]
  },
  {
   "cell_type": "code",
   "execution_count": null,
   "id": "070de524-2e22-4549-9049-62614f51f1b6",
   "metadata": {},
   "outputs": [],
   "source": [
    "tokenizer.fit_on_texts([feqs])"
   ]
  },
  {
   "cell_type": "code",
   "execution_count": null,
   "id": "47f08735-9b90-434b-b3f1-e5932e8d0d63",
   "metadata": {},
   "outputs": [],
   "source": [
    "tokenizer.word_index"
   ]
  },
  {
   "cell_type": "code",
   "execution_count": null,
   "id": "343583e7-85da-4434-b1da-5e58bed18981",
   "metadata": {},
   "outputs": [],
   "source": [
    "for sentence in faqs.split('\\n'):\n",
    "    print(tokenizer.texts_to_sequences([sentence])[0])\n",
    "    for i in range(1,len(tokenized_sentence)):\n",
    "        input_sequences.append(tokenized_sentence[:i+1])"
   ]
  },
  {
   "cell_type": "code",
   "execution_count": null,
   "id": "c29b7894-feca-41d0-8a5f-f5b77f1860ec",
   "metadata": {},
   "outputs": [],
   "source": [
    "input_sequences"
   ]
  },
  {
   "cell_type": "code",
   "execution_count": null,
   "id": "d1dc8a55-2271-4d97-851c-85a3982cba85",
   "metadata": {},
   "outputs": [],
   "source": [
    "maxlen=max([len(x) for x in input_sequence])\n"
   ]
  },
  {
   "cell_type": "code",
   "execution_count": null,
   "id": "23698090-51fd-4ac2-9aca-9bf83d7e34c9",
   "metadata": {},
   "outputs": [],
   "source": [
    "from tensorflow.keras.preprocessing.sequence import pad_sequences\n",
    "padded_input_sequences=pad_sequences(input_sequences, maxlen=max_len,padding='pre')"
   ]
  },
  {
   "cell_type": "code",
   "execution_count": null,
   "id": "5a70600f-0310-43ad-8d93-9540f0ba82fe",
   "metadata": {},
   "outputs": [],
   "source": [
    "padded_input_sequences"
   ]
  },
  {
   "cell_type": "code",
   "execution_count": null,
   "id": "19c9c49d-ae6f-4043-a34a-436713c78da6",
   "metadata": {},
   "outputs": [],
   "source": [
    "x=padded_input_sequences[:,:-1]"
   ]
  },
  {
   "cell_type": "code",
   "execution_count": null,
   "id": "73dbb7df-0729-4caf-a551-f18061802ce8",
   "metadata": {},
   "outputs": [],
   "source": [
    "y=padded_input_sequences[:-1]"
   ]
  },
  {
   "cell_type": "code",
   "execution_count": null,
   "id": "11769400-1684-4692-bc3d-760706238aa3",
   "metadata": {},
   "outputs": [],
   "source": [
    "x.shape"
   ]
  },
  {
   "cell_type": "code",
   "execution_count": null,
   "id": "eca01f87-1151-4ee9-bee3-15f858dc7368",
   "metadata": {},
   "outputs": [],
   "source": [
    "y.shape"
   ]
  },
  {
   "cell_type": "code",
   "execution_count": null,
   "id": "d409d28f-ac41-4502-aa0b-84712c8b3c83",
   "metadata": {},
   "outputs": [],
   "source": [
    "from tensorflow.keras.utils import to_categorical\n",
    "to_categorical(y,num_classes=283)"
   ]
  },
  {
   "cell_type": "code",
   "execution_count": null,
   "id": "4e1b1340-2b2c-4f01-988a-d25fca6c6f3a",
   "metadata": {},
   "outputs": [],
   "source": [
    "y.shape"
   ]
  },
  {
   "cell_type": "code",
   "execution_count": null,
   "id": "afdaaa13-1ca5-4d33-99ad-a74d590173ac",
   "metadata": {},
   "outputs": [],
   "source": [
    "from tensorflow.keras.models import Sequential\n",
    "from tensorflow.keras.layers import Embedding,LSTM,Dense"
   ]
  },
  {
   "cell_type": "code",
   "execution_count": null,
   "id": "a0ea9de3-64be-4667-a2f2-72d69324561d",
   "metadata": {},
   "outputs": [],
   "source": [
    "model=Sequential()\n",
    "model.add(Embedding(283,100,input_length=56))\n",
    "model.add(LSTM(150))\n",
    "model.add(Dense(283,activation='softmax'))"
   ]
  },
  {
   "cell_type": "code",
   "execution_count": null,
   "id": "30052726-35d7-4145-8c5c-d7ec8d0a459e",
   "metadata": {},
   "outputs": [],
   "source": [
    "model.compile(loss='categorical_crossentropy',optimizer='adam',metrics=['accuracy'])"
   ]
  },
  {
   "cell_type": "code",
   "execution_count": null,
   "id": "77217222-85fd-4dd4-9506-ea29bb0ce916",
   "metadata": {},
   "outputs": [],
   "source": [
    "model.summary()"
   ]
  },
  {
   "cell_type": "code",
   "execution_count": null,
   "id": "7294ac70-27b7-4372-bb49-e045be6a2cd2",
   "metadata": {},
   "outputs": [],
   "source": [
    "x"
   ]
  },
  {
   "cell_type": "code",
   "execution_count": null,
   "id": "7ccacd97-c69c-461f-82ed-88e74c03438d",
   "metadata": {},
   "outputs": [],
   "source": [
    "model.fit(x,y,epochs=100)"
   ]
  },
  {
   "cell_type": "code",
   "execution_count": null,
   "id": "e29fc606-a3ea-46f6-a99e-bc5ddbf3c647",
   "metadata": {},
   "outputs": [],
   "source": [
    "text='mail'\n",
    "token_text=tokenizer.texts_to_sequence([text])[0]\n",
    "padded_token_text=pad_sequences([token_text],maxlen=56,padding='pre')\n",
    "print(padded_token_text)\n",
    "np.argmax(model.predict(padded_token_text))\n",
    "for word.index in tokenizer.word_index.items():\n",
    "    if index==pos:\n",
    "        text=text=\" \"+word\n",
    "        print(text)\n",
    "        time.sleep(2)"
   ]
  },
  {
   "cell_type": "code",
   "execution_count": null,
   "id": "623661e0-413d-4a5b-82a2-bb94adeffe40",
   "metadata": {},
   "outputs": [],
   "source": []
  },
  {
   "cell_type": "code",
   "execution_count": null,
   "id": "89bd7eb0-60e7-40e7-9d53-757f32bc877b",
   "metadata": {},
   "outputs": [],
   "source": []
  },
  {
   "cell_type": "code",
   "execution_count": null,
   "id": "f9ed9d2d-e338-4d97-8cdb-0426f268c051",
   "metadata": {},
   "outputs": [],
   "source": []
  },
  {
   "cell_type": "code",
   "execution_count": null,
   "id": "066b9c3d-6276-40c1-a98a-7fb332fb7ff7",
   "metadata": {},
   "outputs": [],
   "source": []
  }
 ],
 "metadata": {
  "kernelspec": {
   "display_name": "Python 3 (ipykernel)",
   "language": "python",
   "name": "python3"
  },
  "language_info": {
   "codemirror_mode": {
    "name": "ipython",
    "version": 3
   },
   "file_extension": ".py",
   "mimetype": "text/x-python",
   "name": "python",
   "nbconvert_exporter": "python",
   "pygments_lexer": "ipython3",
   "version": "3.9.13"
  }
 },
 "nbformat": 4,
 "nbformat_minor": 5
}
