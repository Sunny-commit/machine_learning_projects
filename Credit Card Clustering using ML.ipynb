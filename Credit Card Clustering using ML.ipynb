{
 "cells": [
  {
   "cell_type": "code",
   "execution_count": null,
   "id": "45ea2e78-39d2-4d3c-b958-c58732a0349a",
   "metadata": {},
   "outputs": [],
   "source": [
    "import pandas as pd\n",
    "import numpy as np\n",
    "from sklearn import cluster\n",
    "data=pd.read_csv('CC GENERAL.csv')\n",
    "data.head()"
   ]
  },
  {
   "cell_type": "code",
   "execution_count": null,
   "id": "0e2f2fb2-3662-4c93-995c-60fa53b0d4b5",
   "metadata": {},
   "outputs": [],
   "source": [
    "# Before moving forward, let's check whether this dataset contains any null values or not."
   ]
  },
  {
   "cell_type": "code",
   "execution_count": null,
   "id": "02e67e07-4074-4490-9a95-ca66215d1d2f",
   "metadata": {},
   "outputs": [],
   "source": [
    "data.isnull().sum()"
   ]
  },
  {
   "cell_type": "code",
   "execution_count": null,
   "id": "b8e6fbe4-1ee7-402b-b2f6-7998d2d4dc3f",
   "metadata": {},
   "outputs": [],
   "source": [
    "# The dataset has some nulll values in the minimum payments column. I will drop the rows with null values and move further."
   ]
  },
  {
   "cell_type": "code",
   "execution_count": null,
   "id": "60432344-7237-4bed-9d80-7635df565808",
   "metadata": {},
   "outputs": [],
   "source": [
    "data=data.dropna()"
   ]
  },
  {
   "cell_type": "code",
   "execution_count": null,
   "id": "e1375213-ff91-4560-ae26-7d7c88a0e5f4",
   "metadata": {},
   "outputs": [],
   "source": [
    "clustering_data=data[['BALANCE','PURCHASES','CREDIT_LIMIT']]\n",
    "from sklearn.preprocessing import MinMaxScaler\n",
    "for i in clustering_data.columns:\n",
    "    MinMaxScaler(i)\n",
    "from sklearn.cluster import KMeans\n",
    "kmeans=KMeans(n_clusters=5)\n",
    "clusters=kmeans.fit_predict(clustering_data)\n",
    "data['CREDIT_CARD_SEGMENTS']=clusters"
   ]
  },
  {
   "cell_type": "code",
   "execution_count": null,
   "id": "b2fc133f-39f2-4804-8d97-c78b2d805a0d",
   "metadata": {},
   "outputs": [],
   "source": [
    "data['CREDIT_CARD_SEGMENTS']=data['CREDIT_CARD_SEGMENTS'].map({0:'Cluster 1',1:'Cluster 2',2:'Cluster 3',3:'Cluster 4',4:'Cluster 5'})\n",
    "data.head()"
   ]
  },
  {
   "cell_type": "code",
   "execution_count": null,
   "id": "840819ce-e281-4ea7-bc69-b20b73543e8e",
   "metadata": {},
   "outputs": [],
   "source": []
  },
  {
   "cell_type": "code",
   "execution_count": null,
   "id": "0d6dcd33-5e17-4f90-862a-8bba692682d1",
   "metadata": {},
   "outputs": [],
   "source": []
  },
  {
   "cell_type": "code",
   "execution_count": null,
   "id": "0818ad87-5bac-43ed-9e27-4874dad810f2",
   "metadata": {},
   "outputs": [],
   "source": []
  }
 ],
 "metadata": {
  "kernelspec": {
   "display_name": "Python 3 (ipykernel)",
   "language": "python",
   "name": "python3"
  },
  "language_info": {
   "codemirror_mode": {
    "name": "ipython",
    "version": 3
   },
   "file_extension": ".py",
   "mimetype": "text/x-python",
   "name": "python",
   "nbconvert_exporter": "python",
   "pygments_lexer": "ipython3",
   "version": "3.9.13"
  }
 },
 "nbformat": 4,
 "nbformat_minor": 5
}
